{
 "cells": [
  {
   "cell_type": "code",
   "execution_count": 1,
   "metadata": {},
   "outputs": [],
   "source": [
    "import os\n",
    "import shutil\n",
    "import re"
   ]
  },
  {
   "cell_type": "code",
   "execution_count": 2,
   "metadata": {},
   "outputs": [],
   "source": [
    "# Проверка и удаление папки spbstu если она существует\n",
    "if os.path.exists('spbstu'):\n",
    "    shutil.rmtree('spbstu')\n",
    "\n",
    "# Создание новой папки spbstu\n",
    "os.makedirs('spbstu')\n",
    "\n",
    "# Исходные папки\n",
    "source_folders = ['10.06', 'krasnova 03.06', 'ОД Полина']\n",
    "\n",
    "folder_id = 1  # Счетчик для нумерации папок\n",
    "\n",
    "for source_folder in source_folders:\n",
    "    if not os.path.exists(source_folder):\n",
    "        continue\n",
    "        \n",
    "    # Проход по всем подпапкам в исходной папке\n",
    "    for folder_name in os.listdir(source_folder):\n",
    "        folder_path = os.path.join(source_folder, folder_name)\n",
    "        \n",
    "        if not os.path.isdir(folder_path):\n",
    "            continue\n",
    "            \n",
    "        # Определение типа папки (od или ctrl)\n",
    "        folder_type = 'od' if 'OD' in folder_name.upper() else 'ctrl'\n",
    "        \n",
    "        # Создание нового имени папки\n",
    "        new_folder_name = f\"{str(folder_id).zfill(4)}_{folder_type}\"\n",
    "        new_folder_path = os.path.join('spbstu', new_folder_name)\n",
    "        \n",
    "        # Создание новой папки в датасете\n",
    "        os.makedirs(new_folder_path)\n",
    "        \n",
    "        # Копирование и переименование .tif файлов\n",
    "        for file_name in os.listdir(folder_path):\n",
    "            if file_name.endswith('.tif'):\n",
    "                source_file = os.path.join(folder_path, file_name)\n",
    "                \n",
    "                # Проверка условий для файлов\n",
    "                if 'C001' in file_name:\n",
    "                    new_file_name = 'blue.tif'\n",
    "                    shutil.copy2(source_file, os.path.join(new_folder_path, new_file_name))\n",
    "                elif not any(x in file_name for x in ['C002', 'C003']):\n",
    "                    new_file_name = 'merge.tif'\n",
    "                    shutil.copy2(source_file, os.path.join(new_folder_path, new_file_name))\n",
    "        \n",
    "        folder_id += 1"
   ]
  }
 ],
 "metadata": {
  "kernelspec": {
   "display_name": "Python 3",
   "language": "python",
   "name": "python3"
  },
  "language_info": {
   "codemirror_mode": {
    "name": "ipython",
    "version": 3
   },
   "file_extension": ".py",
   "mimetype": "text/x-python",
   "name": "python",
   "nbconvert_exporter": "python",
   "pygments_lexer": "ipython3",
   "version": "3.9.13"
  }
 },
 "nbformat": 4,
 "nbformat_minor": 2
}
