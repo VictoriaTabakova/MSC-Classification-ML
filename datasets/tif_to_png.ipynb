{
 "cells": [
  {
   "cell_type": "code",
   "execution_count": 1,
   "metadata": {},
   "outputs": [],
   "source": [
    "import os\n",
    "from PIL import Image\n",
    "import glob"
   ]
  },
  {
   "cell_type": "code",
   "execution_count": null,
   "metadata": {},
   "outputs": [],
   "source": [
    "def convert_tif_to_png(root_dir):\n",
    "    # Проходим по всем директориям и поддиректориям\n",
    "    for dirpath, dirnames, filenames in os.walk(root_dir):\n",
    "        # Находим все .tif файлы в текущей директории\n",
    "        tif_files = glob.glob(os.path.join(dirpath, \"*.tif\"))\n",
    "        \n",
    "        # Конвертируем каждый .tif файл в .png\n",
    "        for tif_file in tif_files:\n",
    "            try:\n",
    "                img = Image.open(tif_file)\n",
    "                png_file = os.path.splitext(tif_file)[0] + '.png'\n",
    "                img.save(png_file, 'PNG')\n",
    "                os.remove(tif_file)\n",
    "                print(f\"Конвертирован: {tif_file} -> {png_file}\")\n",
    "            except Exception as e:\n",
    "                print(f\"Ошибка при конвертации {tif_file}: {e}\")\n",
    "\n",
    "# Укажите путь к папке с датасетом\n",
    "dataset_dir = \"msc_classification\"\n",
    "convert_tif_to_png(dataset_dir)"
   ]
  }
 ],
 "metadata": {
  "kernelspec": {
   "display_name": "Python 3",
   "language": "python",
   "name": "python3"
  },
  "language_info": {
   "codemirror_mode": {
    "name": "ipython",
    "version": 3
   },
   "file_extension": ".py",
   "mimetype": "text/x-python",
   "name": "python",
   "nbconvert_exporter": "python",
   "pygments_lexer": "ipython3",
   "version": "3.9.13"
  }
 },
 "nbformat": 4,
 "nbformat_minor": 2
}
